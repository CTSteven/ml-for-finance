{
  "nbformat": 4,
  "nbformat_minor": 0,
  "metadata": {
    "language_info": {
      "codemirror_mode": {
        "name": "ipython",
        "version": 3
      },
      "file_extension": ".py",
      "mimetype": "text/x-python",
      "name": "python",
      "nbconvert_exporter": "python",
      "pygments_lexer": "ipython3",
      "version": "3.6.3-final"
    },
    "orig_nbformat": 2,
    "kernelspec": {
      "name": "python36364bitmyenvvenv92c6f264227046668b513e81ec6b02ec",
      "display_name": "Python 3.6.3 64-bit ('my_env': venv)"
    },
    "colab": {
      "name": "ComputerVision.ipynb",
      "provenance": []
    }
  },
  "cells": [
    {
      "cell_type": "markdown",
      "metadata": {
        "id": "i5z6KE0m7xZg",
        "colab_type": "text"
      },
      "source": [
        "Exercise for Computer Vision from chapter 3 of this book :  [Machine Learning for Finance](https://www.packtpub.com/big-data-and-business-intelligence/machine-learning-finance)"
      ]
    },
    {
      "cell_type": "code",
      "metadata": {
        "id": "RrCejmEx7xZh",
        "colab_type": "code",
        "colab": {}
      },
      "source": [
        "import cv2\n",
        "import tensorflow as tf\n",
        "import numpy as np"
      ],
      "execution_count": 1,
      "outputs": []
    },
    {
      "cell_type": "code",
      "metadata": {
        "id": "2WyLvDE-7xZm",
        "colab_type": "code",
        "colab": {
          "base_uri": "https://localhost:8080/"
        },
        "outputId": "01aca2d9-08c6-4c74-a372-73b0a8bb7e8c"
      },
      "source": [
        "url = \"https://solarianprogrammer.com/images/2019/10/21/clouds.jpg\"\n",
        "img_path = tf.keras.utils.get_file('cclouds.jpg', origin=url)\n",
        "img = cv2.imread(img_path)"
      ],
      "execution_count": 2,
      "outputs": [
        {
          "output_type": "stream",
          "text": [
            "Downloading data from https://solarianprogrammer.com/images/2019/10/21/clouds.jpg\n",
            "90112/83366 [================================] - 0s 0us/step\n"
          ],
          "name": "stdout"
        }
      ]
    },
    {
      "cell_type": "code",
      "metadata": {
        "id": "pkRJlo0T7xZr",
        "colab_type": "code",
        "colab": {}
      },
      "source": [
        "gray = cv2.cvtColor(img,cv2.COLOR_BGR2GRAY)\n",
        "#cv2.imshow(\"Over the Clouds\",img)\n",
        "#cv2.imshow(\"Over the Clouds - gray\",gray)\n",
        "\n",
        "cv2.waitKey(0)\n",
        "cv2.destroyAllWindows()"
      ],
      "execution_count": 3,
      "outputs": []
    },
    {
      "cell_type": "code",
      "metadata": {
        "id": "UtL4vmqw7xZt",
        "colab_type": "code",
        "colab": {
          "base_uri": "https://localhost:8080/",
          "height": 34
        },
        "outputId": "01972d23-4128-4309-f256-0229dc06ccd5"
      },
      "source": [
        "from keras.datasets import mnist"
      ],
      "execution_count": 4,
      "outputs": [
        {
          "output_type": "stream",
          "text": [
            "Using TensorFlow backend.\n"
          ],
          "name": "stderr"
        }
      ]
    },
    {
      "cell_type": "code",
      "metadata": {
        "id": "n1p4994G7xZw",
        "colab_type": "code",
        "colab": {
          "base_uri": "https://localhost:8080/",
          "height": 51
        },
        "outputId": "9689f73b-09a8-4e64-fc5b-1ff96b315e92"
      },
      "source": [
        "(x_train, y_train), (x_test, y_test) = mnist.load_data()"
      ],
      "execution_count": 5,
      "outputs": [
        {
          "output_type": "stream",
          "text": [
            "Downloading data from https://s3.amazonaws.com/img-datasets/mnist.npz\n",
            "11493376/11490434 [==============================] - 0s 0us/step\n"
          ],
          "name": "stdout"
        }
      ]
    },
    {
      "cell_type": "code",
      "metadata": {
        "id": "I4KUsX_J8FVr",
        "colab_type": "code",
        "colab": {}
      },
      "source": [
        "x_train = np.expand_dims(x_train,-1)\n",
        "x_test = np.expand_dims(x_test,-1)"
      ],
      "execution_count": 6,
      "outputs": []
    },
    {
      "cell_type": "code",
      "metadata": {
        "id": "opRk-udi8c30",
        "colab_type": "code",
        "colab": {},
        "tags": []
      },
      "source": [
        "from keras.layers import Conv2D, Activation, MaxPool2D, Flatten, Dense\n",
        "from keras.models import Sequential"
      ],
      "execution_count": 8,
      "outputs": [
        {
          "output_type": "stream",
          "name": "stderr",
          "text": "Using TensorFlow backend.\n"
        }
      ]
    },
    {
      "cell_type": "code",
      "metadata": {
        "id": "imiE2cBD8l6g",
        "colab_type": "code",
        "colab": {}
      },
      "source": [
        "model = Sequential()\n",
        "img_shape = (28,28,1)\n",
        "model.add(Conv2D(filters=6,\n",
        "                 kernel_size=3,\n",
        "                 strides=1,\n",
        "                 padding='valid',\n",
        "                 input_shape=img_shape))\n",
        "model.add(Activation('relu'))\n",
        "model.add(MaxPool2D(2))\n",
        "model.add(Conv2D(12,3))\n",
        "model.add(Activation('relu'))\n",
        "model.add(MaxPool2D(2))\n",
        "model.add(Flatten())\n",
        "model.add(Dense(10))\n",
        "model.add(Activation('softmax'))"
      ],
      "execution_count": 11,
      "outputs": []
    },
    {
      "cell_type": "code",
      "metadata": {
        "id": "pJ8RGox88-cK",
        "colab_type": "code",
        "colab": {
          "base_uri": "https://localhost:8080/",
          "height": 204
        },
        "outputId": "a6550203-87b1-4d90-c724-bd67701b8fca"
      },
      "source": [
        "model.compile(loss='sparse_categorical_crossentropy',\n",
        "              optimizer='adam',\n",
        "              metrics=['acc'])\n",
        "history = model.fit(x_train,y_train,batch_size=32,epochs=5,validation_data=(x_test,y_test))"
      ],
      "execution_count": 13,
      "outputs": [
        {
          "output_type": "stream",
          "text": [
            "Train on 60000 samples, validate on 10000 samples\n",
            "Epoch 1/5\n",
            "60000/60000 [==============================] - 25s 410us/step - loss: 0.0777 - acc: 0.9756 - val_loss: 0.0747 - val_acc: 0.9773\n",
            "Epoch 2/5\n",
            "60000/60000 [==============================] - 24s 408us/step - loss: 0.0658 - acc: 0.9799 - val_loss: 0.0583 - val_acc: 0.9820\n",
            "Epoch 3/5\n",
            "60000/60000 [==============================] - 25s 410us/step - loss: 0.0567 - acc: 0.9822 - val_loss: 0.0662 - val_acc: 0.9795\n",
            "Epoch 4/5\n",
            "60000/60000 [==============================] - 24s 406us/step - loss: 0.0524 - acc: 0.9837 - val_loss: 0.0630 - val_acc: 0.9812\n",
            "Epoch 5/5\n",
            "60000/60000 [==============================] - 25s 415us/step - loss: 0.0499 - acc: 0.9841 - val_loss: 0.0628 - val_acc: 0.9826\n"
          ],
          "name": "stdout"
        }
      ]
    },
    {
      "cell_type": "code",
      "metadata": {
        "id": "zqObRdVhddrN",
        "colab_type": "code",
        "colab": {}
      },
      "source": [
        "import matplotlib.pyplot as plt"
      ],
      "execution_count": 14,
      "outputs": []
    },
    {
      "cell_type": "code",
      "metadata": {
        "id": "l4ybbGV3d5Aa",
        "colab_type": "code",
        "colab": {
          "base_uri": "https://localhost:8080/",
          "height": 374
        },
        "outputId": "478cbc21-ec8c-484b-c107-94007cf6e42f"
      },
      "source": [
        "fig, ax = plt.subplots(figsize=(10,6))\n",
        "gen = ax.plot(history.history['val_acc'], label='Validation Accuracy')\n",
        "fr = ax.plot(history.history['acc'], dashes=[5,2], label='Training Accuracy')\n",
        "legend = ax.legend(loc='lower center', shadow=True)\n",
        "plt.show()"
      ],
      "execution_count": 16,
      "outputs": [
        {
          "output_type": "display_data",
          "data": {
            "image/png": "[encoded data removed]",
            "text/plain": [
              "<Figure size 720x432 with 1 Axes>"
            ]
          },
          "metadata": {
            "tags": [],
            "needs_background": "light"
          }
        }
      ]
    },
    {
      "cell_type": "code",
      "metadata": {
        "id": "7HTEaMYJedXk",
        "colab_type": "code",
        "colab": {
          "base_uri": "https://localhost:8080/",
          "height": 459
        },
        "outputId": "0b1520c5-1acb-4de5-8ff6-44f8d3d91134"
      },
      "source": [
        "model.summary()"
      ],
      "execution_count": 17,
      "outputs": [
        {
          "output_type": "stream",
          "text": [
            "Model: \"sequential_3\"\n",
            "_________________________________________________________________\n",
            "Layer (type)                 Output Shape              Param #   \n",
            "=================================================================\n",
            "conv2d_3 (Conv2D)            (None, 26, 26, 6)         60        \n",
            "_________________________________________________________________\n",
            "activation_1 (Activation)    (None, 26, 26, 6)         0         \n",
            "_________________________________________________________________\n",
            "max_pooling2d_1 (MaxPooling2 (None, 13, 13, 6)         0         \n",
            "_________________________________________________________________\n",
            "conv2d_4 (Conv2D)            (None, 11, 11, 12)        660       \n",
            "_________________________________________________________________\n",
            "activation_2 (Activation)    (None, 11, 11, 12)        0         \n",
            "_________________________________________________________________\n",
            "max_pooling2d_2 (MaxPooling2 (None, 5, 5, 12)          0         \n",
            "_________________________________________________________________\n",
            "flatten_1 (Flatten)          (None, 300)               0         \n",
            "_________________________________________________________________\n",
            "dense_1 (Dense)              (None, 10)                3010      \n",
            "_________________________________________________________________\n",
            "activation_3 (Activation)    (None, 10)                0         \n",
            "=================================================================\n",
            "Total params: 3,730\n",
            "Trainable params: 3,730\n",
            "Non-trainable params: 0\n",
            "_________________________________________________________________\n"
          ],
          "name": "stdout"
        }
      ]
    },
    {
      "cell_type": "code",
      "metadata": {
        "id": "8xeZXsZjezN5",
        "colab_type": "code",
        "colab": {}
      },
      "source": [
        "\n",
        "from keras.applications.vgg16 import VGG16"
      ],
      "execution_count": 17,
      "outputs": []
    },
    {
      "cell_type": "code",
      "execution_count": 18,
      "metadata": {
        "tags": []
      },
      "outputs": [
        {
          "output_type": "stream",
          "name": "stdout",
          "text": "WARNING:tensorflow:From /Users/steven/GIT/ml/my_env/lib/python3.6/site-packages/keras/backend/tensorflow_backend.py:4070: The name tf.nn.max_pool is deprecated. Please use tf.nn.max_pool2d instead.\n\n"
        }
      ],
      "source": [
        "vgg_model = VGG16(include_top=False, input_shape=(150,150,3))"
      ]
    },
    {
      "cell_type": "code",
      "execution_count": 19,
      "metadata": {
        "tags": []
      },
      "outputs": [
        {
          "output_type": "execute_result",
          "data": {
            "text/plain": "[<keras.engine.input_layer.InputLayer at 0x10a55d940>,\n <keras.layers.convolutional.Conv2D at 0x10a55db00>,\n <keras.layers.convolutional.Conv2D at 0x10a56a1d0>,\n <keras.layers.pooling.MaxPooling2D at 0x10a578208>,\n <keras.layers.convolutional.Conv2D at 0x10a582588>,\n <keras.layers.convolutional.Conv2D at 0x112228ef0>,\n <keras.layers.pooling.MaxPooling2D at 0x1122099e8>,\n <keras.layers.convolutional.Conv2D at 0x1121dcef0>,\n <keras.layers.convolutional.Conv2D at 0x11221c588>,\n <keras.layers.convolutional.Conv2D at 0x11222b470>,\n <keras.layers.pooling.MaxPooling2D at 0x112223b70>,\n <keras.layers.convolutional.Conv2D at 0x1121e9cf8>,\n <keras.layers.convolutional.Conv2D at 0x1121d15c0>,\n <keras.layers.convolutional.Conv2D at 0x10a58ccc0>,\n <keras.layers.pooling.MaxPooling2D at 0x123173a20>,\n <keras.layers.convolutional.Conv2D at 0x12317dd30>,\n <keras.layers.convolutional.Conv2D at 0x123184860>,\n <keras.layers.convolutional.Conv2D at 0x123188a90>,\n <keras.layers.pooling.MaxPooling2D at 0x1231957f0>]"
          },
          "metadata": {},
          "execution_count": 19
        }
      ],
      "source": [
        "vgg_model.layers"
      ]
    },
    {
      "cell_type": "code",
      "execution_count": 20,
      "metadata": {},
      "outputs": [],
      "source": [
        "for layer in vgg_model.layers:\n",
        "    layer.trainable = False"
      ]
    },
    {
      "cell_type": "code",
      "execution_count": 21,
      "metadata": {},
      "outputs": [],
      "source": [
        "finetune = Sequential(layers = vgg_model.layers)\n",
        "finetune.add(Flatten())\n",
        "finetune.add(Dense(12))\n",
        "finetune.add(Activation('softmax'))"
      ]
    },
    {
      "cell_type": "code",
      "execution_count": 22,
      "metadata": {},
      "outputs": [],
      "source": [
        "finetune.compile(loss='categorical_crossentropy',\n",
        "    optimizer='adam',\n",
        "    metrics = ['acc'])"
      ]
    },
    {
      "cell_type": "code",
      "execution_count": 23,
      "metadata": {},
      "outputs": [],
      "source": [
        "from keras.preprocessing.image import ImageDataGenerator"
      ]
    },
    {
      "cell_type": "code",
      "execution_count": null,
      "metadata": {},
      "outputs": [],
      "source": [
        "#!wget https://storage.googleapis.com/aibootcamp/data/plants.zip"
      ]
    },
    {
      "cell_type": "code",
      "execution_count": 25,
      "metadata": {},
      "outputs": [
        {
          "output_type": "error",
          "ename": "FileNotFoundError",
          "evalue": "[Errno 2] No such file or directory: 'train'",
          "traceback": [
            "\u001b[0;31m---------------------------------------------------------------------------\u001b[0m",
            "\u001b[0;31mFileNotFoundError\u001b[0m                         Traceback (most recent call last)",
            "\u001b[0;32m<ipython-input-25-87e03a07999f>\u001b[0m in \u001b[0;36m<module>\u001b[0;34m\u001b[0m\n\u001b[1;32m      1\u001b[0m \u001b[0mimgen\u001b[0m \u001b[0;34m=\u001b[0m \u001b[0mImageDataGenerator\u001b[0m\u001b[0;34m(\u001b[0m\u001b[0mrescale\u001b[0m\u001b[0;34m=\u001b[0m\u001b[0;36m1\u001b[0m\u001b[0;34m/\u001b[0m\u001b[0;36m255\u001b[0m\u001b[0;34m)\u001b[0m\u001b[0;34m\u001b[0m\u001b[0m\n\u001b[0;32m----> 2\u001b[0;31m \u001b[0mtrain_generator\u001b[0m \u001b[0;34m=\u001b[0m \u001b[0mimgen\u001b[0m\u001b[0;34m.\u001b[0m\u001b[0mflow_from_directory\u001b[0m\u001b[0;34m(\u001b[0m\u001b[0;34m'train'\u001b[0m\u001b[0;34m,\u001b[0m\u001b[0mbatch_size\u001b[0m\u001b[0;34m=\u001b[0m\u001b[0;36m32\u001b[0m\u001b[0;34m,\u001b[0m \u001b[0mtarget_size\u001b[0m\u001b[0;34m=\u001b[0m\u001b[0;34m(\u001b[0m\u001b[0;36m150\u001b[0m\u001b[0;34m,\u001b[0m\u001b[0;36m150\u001b[0m\u001b[0;34m)\u001b[0m\u001b[0;34m)\u001b[0m\u001b[0;34m\u001b[0m\u001b[0m\n\u001b[0m\u001b[1;32m      3\u001b[0m validation_generator = imgen.flow_from_directory('validation',\n\u001b[1;32m      4\u001b[0m                                                  \u001b[0mbatch_size\u001b[0m\u001b[0;34m=\u001b[0m\u001b[0;36m32\u001b[0m\u001b[0;34m,\u001b[0m\u001b[0;34m\u001b[0m\u001b[0m\n\u001b[1;32m      5\u001b[0m                                                  target_size=(150,150))\n",
            "\u001b[0;32m~/GIT/ml/my_env/lib/python3.6/site-packages/keras/preprocessing/image.py\u001b[0m in \u001b[0;36mflow_from_directory\u001b[0;34m(self, directory, target_size, color_mode, classes, class_mode, batch_size, shuffle, seed, save_to_dir, save_prefix, save_format, follow_links, subset, interpolation)\u001b[0m\n\u001b[1;32m    465\u001b[0m             \u001b[0mfollow_links\u001b[0m\u001b[0;34m=\u001b[0m\u001b[0mfollow_links\u001b[0m\u001b[0;34m,\u001b[0m\u001b[0;34m\u001b[0m\u001b[0m\n\u001b[1;32m    466\u001b[0m             \u001b[0msubset\u001b[0m\u001b[0;34m=\u001b[0m\u001b[0msubset\u001b[0m\u001b[0;34m,\u001b[0m\u001b[0;34m\u001b[0m\u001b[0m\n\u001b[0;32m--> 467\u001b[0;31m             \u001b[0minterpolation\u001b[0m\u001b[0;34m=\u001b[0m\u001b[0minterpolation\u001b[0m\u001b[0;34m\u001b[0m\u001b[0m\n\u001b[0m\u001b[1;32m    468\u001b[0m         )\n\u001b[1;32m    469\u001b[0m \u001b[0;34m\u001b[0m\u001b[0m\n",
            "\u001b[0;32m~/GIT/ml/my_env/lib/python3.6/site-packages/keras/preprocessing/image.py\u001b[0m in \u001b[0;36m__init__\u001b[0;34m(self, directory, image_data_generator, target_size, color_mode, classes, class_mode, batch_size, shuffle, seed, data_format, save_to_dir, save_prefix, save_format, follow_links, subset, interpolation, dtype)\u001b[0m\n\u001b[1;32m    148\u001b[0m             \u001b[0msubset\u001b[0m\u001b[0;34m=\u001b[0m\u001b[0msubset\u001b[0m\u001b[0;34m,\u001b[0m\u001b[0;34m\u001b[0m\u001b[0m\n\u001b[1;32m    149\u001b[0m             \u001b[0minterpolation\u001b[0m\u001b[0;34m=\u001b[0m\u001b[0minterpolation\u001b[0m\u001b[0;34m,\u001b[0m\u001b[0;34m\u001b[0m\u001b[0m\n\u001b[0;32m--> 150\u001b[0;31m             dtype=dtype)\n\u001b[0m\u001b[1;32m    151\u001b[0m \u001b[0;34m\u001b[0m\u001b[0m\n\u001b[1;32m    152\u001b[0m \u001b[0;34m\u001b[0m\u001b[0m\n",
            "\u001b[0;32m~/GIT/ml/my_env/lib/python3.6/site-packages/keras_preprocessing/image/directory_iterator.py\u001b[0m in \u001b[0;36m__init__\u001b[0;34m(self, directory, image_data_generator, target_size, color_mode, classes, class_mode, batch_size, shuffle, seed, data_format, save_to_dir, save_prefix, save_format, follow_links, subset, interpolation, dtype)\u001b[0m\n\u001b[1;32m    104\u001b[0m         \u001b[0;32mif\u001b[0m \u001b[0;32mnot\u001b[0m \u001b[0mclasses\u001b[0m\u001b[0;34m:\u001b[0m\u001b[0;34m\u001b[0m\u001b[0m\n\u001b[1;32m    105\u001b[0m             \u001b[0mclasses\u001b[0m \u001b[0;34m=\u001b[0m \u001b[0;34m[\u001b[0m\u001b[0;34m]\u001b[0m\u001b[0;34m\u001b[0m\u001b[0m\n\u001b[0;32m--> 106\u001b[0;31m             \u001b[0;32mfor\u001b[0m \u001b[0msubdir\u001b[0m \u001b[0;32min\u001b[0m \u001b[0msorted\u001b[0m\u001b[0;34m(\u001b[0m\u001b[0mos\u001b[0m\u001b[0;34m.\u001b[0m\u001b[0mlistdir\u001b[0m\u001b[0;34m(\u001b[0m\u001b[0mdirectory\u001b[0m\u001b[0;34m)\u001b[0m\u001b[0;34m)\u001b[0m\u001b[0;34m:\u001b[0m\u001b[0;34m\u001b[0m\u001b[0m\n\u001b[0m\u001b[1;32m    107\u001b[0m                 \u001b[0;32mif\u001b[0m \u001b[0mos\u001b[0m\u001b[0;34m.\u001b[0m\u001b[0mpath\u001b[0m\u001b[0;34m.\u001b[0m\u001b[0misdir\u001b[0m\u001b[0;34m(\u001b[0m\u001b[0mos\u001b[0m\u001b[0;34m.\u001b[0m\u001b[0mpath\u001b[0m\u001b[0;34m.\u001b[0m\u001b[0mjoin\u001b[0m\u001b[0;34m(\u001b[0m\u001b[0mdirectory\u001b[0m\u001b[0;34m,\u001b[0m \u001b[0msubdir\u001b[0m\u001b[0;34m)\u001b[0m\u001b[0;34m)\u001b[0m\u001b[0;34m:\u001b[0m\u001b[0;34m\u001b[0m\u001b[0m\n\u001b[1;32m    108\u001b[0m                     \u001b[0mclasses\u001b[0m\u001b[0;34m.\u001b[0m\u001b[0mappend\u001b[0m\u001b[0;34m(\u001b[0m\u001b[0msubdir\u001b[0m\u001b[0;34m)\u001b[0m\u001b[0;34m\u001b[0m\u001b[0m\n",
            "\u001b[0;31mFileNotFoundError\u001b[0m: [Errno 2] No such file or directory: 'train'"
          ]
        }
      ],
      "source": [
        "imgen = ImageDataGenerator(rescale=1/255)\n",
        "train_generator = imgen.flow_from_directory('train',batch_size=32, target_size=(150,150))\n",
        "validation_generator = imgen.flow_from_directory('validation',\n",
        "                                                 batch_size=32, \n",
        "                                                 target_size=(150,150))"
      ]
    },
    {
      "cell_type": "code",
      "execution_count": null,
      "metadata": {},
      "outputs": [],
      "source": [
        "finetune.fit_generator(train_generator,epochs=8, steps_per_epoch=4606//32,validation_data=validation_generator, validation_steps=144//32)"
      ]
    }
  ]
}