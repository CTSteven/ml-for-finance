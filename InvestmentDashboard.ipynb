{
 "metadata": {
  "language_info": {
   "codemirror_mode": {
    "name": "ipython",
    "version": 3
   },
   "file_extension": ".py",
   "mimetype": "text/x-python",
   "name": "python",
   "nbconvert_exporter": "python",
   "pygments_lexer": "ipython3",
   "version": "3.6.3-final"
  },
  "orig_nbformat": 2,
  "kernelspec": {
   "name": "python3",
   "display_name": "Python 3"
  }
 },
 "nbformat": 4,
 "nbformat_minor": 2,
 "cells": [
  {
   "cell_type": "markdown",
   "metadata": {},
   "source": [
    "This is a exercise following [this blog from Medium](https://towardsdatascience.com/value-investing-dashboard-with-python-beautiful-soup-and-dash-python-43002f6a97ca).\n",
    "\n",
    "The goal of this application is to help you retrieve and display the right financial insights quickly about a certain company ticker.\n",
    "\n",
    "Tool list:\n",
    "- Beautiful Soup as the Web Scraping Tool\n",
    "- Pandas data-reader API to get the financial stocks price\n",
    "- Flask/Dash for Web Application Framework\n",
    "\n",
    "Install follow packages to start using Dash :\n",
    "- The core dash backend.\n",
    "- Dash front-end\n",
    "- Dash HTML components\n",
    "- Dash core components\n",
    "- Plotly"
   ]
  },
  {
   "cell_type": "code",
   "execution_count": 6,
   "metadata": {},
   "outputs": [],
   "source": [
    "import requests\n",
    "from bs4 import BeautifulSoup\n",
    "import pandas as pd"
   ]
  },
  {
   "cell_type": "code",
   "execution_count": 19,
   "metadata": {
    "tags": []
   },
   "outputs": [],
   "source": [
    "### Extract lists of the stocks with their tickers\n",
    "def save_sp500_stocks_info():  \n",
    "    resp = requests.get('http://en.wikipedia.org/wiki/List_of_S%26P_500_companies')\n",
    "    soup = BeautifulSoup(resp.text,'lxml')\n",
    "    table = soup.find('table',{'class':'wikitable sortable'})\n",
    "    stocks_info=[]\n",
    "    tickers, securities, gics_industries, gics_sub_industries = [],[],[],[]\n",
    "    for row in table.findAll('tr')[1:]:\n",
    "        ticker = row.findAll('td')[0].text\n",
    "        security = row.findAll('td')[1].text\n",
    "        gics_industry = row.findAll('td')[3].text\n",
    "        gics_sub_industry = row.findAll('td')[4].text\n",
    "        \n",
    "        tickers.append(ticker.lower().replace(r\"\\n\",\" \"))\n",
    "        securities.append(security)\n",
    "        gics_industries.append(gics_industry.lower())\n",
    "        gics_sub_industries.append(gics_sub_industry.lower())\n",
    "\n",
    "    stocks_info.append(tickers)\n",
    "    stocks_info.append(securities)\n",
    "    stocks_info.append(gics_industries)\n",
    "    stocks_info.append(gics_sub_industries)\n",
    "\n",
    "    stocks_info_df = pd.DataFrame(stocks_info).T\n",
    "    stocks_info_df.columns=['tickers','security','gics_industry','gics_sub_industry']\n",
    "    stocks_info_df['seclabels'] = 'SP500'\n",
    "    stocks_info_df['labels'] = stocks_info_df[['tickers','security', 'gics_industry','gics_sub_industry','seclabels']].apply(lambda x: ' '.join(x), axis=1)\n",
    "\n",
    "    dictlist = []\n",
    "    for index, row in stocks_info_df.iterrows():\n",
    "        dictlist.append({'value':row['tickers'], 'label':row['labels']})\n",
    "    return dictlist"
   ]
  },
  {
   "cell_type": "code",
   "execution_count": 27,
   "metadata": {},
   "outputs": [],
   "source": [
    "# Tickers from russell\n",
    "# This function will return empty array until the csv file of Russell components is available.\n",
    "def save_russell_info():\n",
    "    print(\"Getting russell stocks info\")\n",
    "    russell_csv_url = None\n",
    "    dictlist = []\n",
    "    if (russell_csv_url != None):\n",
    "        dfrussel=pd.read_csv(russell_csv_url,index_col='Symbol')\n",
    "        dfrussel['tickers'] = dfrussel.index.str.upper()\n",
    "        dfrussel['tickers'] = dfrussel['tickers'].replace(r\"\\n\", \" \")\n",
    "        dfrussel['security'] = dfrussel.Description.str.title()\n",
    "        dfrussel['gics_industry'] = dfrussel.Sector.str.lower()\n",
    "        dfrussel['gics_sub_industry'] = dfrussel.Industry.str.lower()\n",
    "        dfrussel['seclabels'] = 'RUSSELL'\n",
    "\n",
    "        dfrussel['labels'] = dfrussel[['tickers','security','gics_industry','gics_sub_industry','seclabels']].apply(lambda x: ' '.join(x), axis=1)\n",
    "\n",
    "        for index, row in dfrussel.iterrows():\n",
    "            dictlist.append({'value':row['tickers'], 'label':row['labels']})\n",
    "    else:\n",
    "        print(\"Warning ! Russell stock list csv file not found !\")\n",
    "\n",
    "    return dictlist"
   ]
  },
  {
   "cell_type": "code",
   "execution_count": 29,
   "metadata": {
    "tags": []
   },
   "outputs": [],
   "source": [
    "# self append\n",
    "def save_self_stocks_info():\n",
    "    print(\"Adding own list of stocks info\")\n",
    "\n",
    "    dictlist = []\n",
    "\n",
    "    dictlist.append({'value':'ajbu', 'label':'AJBU Keppel DC Reit Data REITS SA'})\n",
    "    dictlist.append({'value':'gme', 'label':'GME Game Stop Corp SA'})\n",
    "    dictlist.append({'value':'aeg', 'label':'AEG Aegon Insurance SA'})\n",
    "    dictlist.append({'value':'ntic', 'label':'NTIC Northern Technologies International SA'})\n",
    "    dictlist.append({'value':'sq', 'label':'SQ Square SA'})\n",
    "    dictlist.append({'value':'kbsty', 'label':'Kobe steel'})\n",
    "    dictlist.append({'value':'NESN', 'label':'Nestle'})\n",
    "    dictlist.append({'value':'BN', 'label':'Danone'})\n",
    "    dictlist.append({'value': 'DATA', 'label': 'Tableau Software Data Visualization'})\n",
    "    dictlist.append({'value': 'S58','label':'SATS'})\n",
    "\n",
    "    return dictlist"
   ]
  },
  {
   "cell_type": "code",
   "execution_count": null,
   "metadata": {},
   "outputs": [],
   "source": []
  }
 ]
}